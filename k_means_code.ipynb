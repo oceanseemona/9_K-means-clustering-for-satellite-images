{
 "cells": [
  {
   "cell_type": "code",
   "execution_count": 1,
   "metadata": {},
   "outputs": [],
   "source": [
    "from matplotlib import pyplot as plt\n",
    "import numpy as np\n",
    "from PIL import Image\n",
    "from skimage import exposure\n",
    "import random\n",
    "import sys"
   ]
  },
  {
   "cell_type": "code",
   "execution_count": 2,
   "metadata": {},
   "outputs": [],
   "source": [
    "im1 = np.array(Image.open('band1.gif', 'r'))\n",
    "im2 = np.array(Image.open('band2.gif', 'r'))\n",
    "im3 = np.array(Image.open('band3.gif', 'r'))\n",
    "im4 = np.array(Image.open('band4.gif', 'r'))"
   ]
  },
  {
   "cell_type": "code",
   "execution_count": 3,
   "metadata": {},
   "outputs": [],
   "source": [
    "# 1. Initialize corresponding k color values for k=3 clusters\n",
    "\n",
    "k=3\n",
    "color = [[255,69,0],[255,255,255],[0,255,255]]"
   ]
  },
  {
   "cell_type": "code",
   "execution_count": 4,
   "metadata": {},
   "outputs": [
    {
     "name": "stdout",
     "output_type": "stream",
     "text": [
      "(512, 512, 4)\n"
     ]
    }
   ],
   "source": [
    "# 2. Input satellite images, imageInput (512, 512,4)\n",
    "\n",
    "imageinput=np.array([im1,im2,im3,im4])\n",
    "imageinput=imageinput.reshape(512,512,4)\n",
    "print(imageinput.shape)"
   ]
  },
  {
   "cell_type": "code",
   "execution_count": 5,
   "metadata": {},
   "outputs": [],
   "source": [
    "# 3. Initialize clusteredImage as the output image\n",
    "\n",
    "clusteredImage = np.zeros((512,512,3)) "
   ]
  },
  {
   "cell_type": "code",
   "execution_count": 6,
   "metadata": {},
   "outputs": [
    {
     "name": "stdout",
     "output_type": "stream",
     "text": [
      "(3, 4)\n",
      "\n",
      "[11 13 16 19]\n"
     ]
    }
   ],
   "source": [
    "# 4. Select k=3 random x,y co-ordinates and extract pixel values from imageInput \n",
    "\n",
    "coord = np.array(([300,100],[200,300],[200,400]))\n",
    "\n",
    "b1=[]\n",
    "b2=[]\n",
    "b3=[]\n",
    "b4=[]\n",
    "for i in range(k):\n",
    "    b1.append(im1[coord[i][0],coord[i][1]])\n",
    "    b2.append(im2[coord[i][0],coord[i][1]])\n",
    "    b3.append(im3[coord[i][0],coord[i][1]])\n",
    "    b4.append(im4[coord[i][0],coord[i][1]])\n",
    "\n",
    "    \n",
    "initCentroids=np.array([b1,b2,b3,b4]).T\n",
    "print(initCentroids.shape)\n",
    "print()\n",
    "print(initCentroids[1])"
   ]
  },
  {
   "cell_type": "code",
   "execution_count": 7,
   "metadata": {},
   "outputs": [
    {
     "name": "stderr",
     "output_type": "stream",
     "text": [
      "<ipython-input-7-08d3e30e782d>:7: RuntimeWarning: overflow encountered in ubyte_scalars\n",
      "  dist = sum([(a - b) ** 2 for a, b in zip(x1, x2)])**0.5\n"
     ]
    },
    {
     "name": "stdout",
     "output_type": "stream",
     "text": [
      "matched\n",
      "3\n"
     ]
    }
   ],
   "source": [
    "# 5. Clustering\n",
    "\n",
    "#initCentroids (3, 4)\n",
    "#(512, 512, 4)\n",
    "\n",
    "def euclidean_dist(x1,x2):\n",
    "    dist = sum([(a - b) ** 2 for a, b in zip(x1, x2)])**0.5\n",
    "    return dist\n",
    "\n",
    "\n",
    "def clustering(k,imageinput,initCentroids):\n",
    "    min_dist = sys.maxsize\n",
    "\n",
    "    classData = np.zeros((512,512))\n",
    "\n",
    "    for i in range(512):\n",
    "        for j in range(512):\n",
    "            for x in range(k):\n",
    "                distance = euclidean_dist(imageinput[i,j,:],initCentroids[x])\n",
    "\n",
    "                if(min_dist > distance):\n",
    "                    min_dist = distance\n",
    "                    label = x\n",
    "\n",
    "            classData[i][j] = label\n",
    "            min_dist = sys.maxsize\n",
    "            \n",
    "    return classData\n",
    "\n",
    "\n",
    "def updateCentroids(imageinput,classData):\n",
    "    s=np.zeros((1,4))\n",
    "    total = 0\n",
    "    updatedCentroids = np.zeros((k,4))\n",
    "\n",
    "    for x in range (k):\n",
    "        for i in range(512):\n",
    "            for j in range(512):\n",
    "                if classData[i][j]==x:\n",
    "                    s+= imageinput[i,j,:]\n",
    "                    total+=1\n",
    "        s = s/total\n",
    "        updatedCentroids[x] = s\n",
    "        s=np.zeros((1,4))\n",
    "        total = 0\n",
    "    return updatedCentroids\n",
    "\n",
    "# loop until stopping criteria \n",
    "\n",
    "# setting threshold\n",
    "threshold = 15\n",
    "\n",
    "for i in range(threshold):\n",
    "    classData = clustering(k,imageinput,initCentroids)\n",
    "    updatedCentroids = np.round(updateCentroids(imageinput,classData))\n",
    "    if (initCentroids==updatedCentroids).all():\n",
    "        print(\"matched\")\n",
    "        print(i)\n",
    "        break\n",
    "    else:\n",
    "        initCentroids = updatedCentroids"
   ]
  },
  {
   "cell_type": "code",
   "execution_count": 8,
   "metadata": {},
   "outputs": [
    {
     "name": "stdout",
     "output_type": "stream",
     "text": [
      "[[ 9.  8.  8.  9.]\n",
      " [23. 23. 23. 23.]\n",
      " [14. 14. 14. 14.]]\n"
     ]
    }
   ],
   "source": [
    "print(updatedCentroids)"
   ]
  },
  {
   "cell_type": "code",
   "execution_count": 9,
   "metadata": {},
   "outputs": [
    {
     "data": {
      "text/plain": [
       "(512, 512, 3)"
      ]
     },
     "execution_count": 9,
     "metadata": {},
     "output_type": "execute_result"
    }
   ],
   "source": [
    "# 6. assign color\n",
    "\n",
    "for i in range(512):\n",
    "    for j in range(512):\n",
    "        clusteredImage[i,j,:] = color[int(classData[i,j])]\n",
    "        \n",
    "clusteredImage.shape"
   ]
  },
  {
   "cell_type": "code",
   "execution_count": null,
   "metadata": {},
   "outputs": [],
   "source": []
  },
  {
   "cell_type": "code",
   "execution_count": 10,
   "metadata": {},
   "outputs": [
    {
     "data": {
      "image/png": "[encoded data removed]",
      "text/plain": [
       "<Figure size 432x288 with 1 Axes>"
      ]
     },
     "metadata": {
      "needs_background": "light"
     },
     "output_type": "display_data"
    }
   ],
   "source": [
    "# 7. Display clusteredImage\n",
    "\n",
    "img = Image.fromarray(clusteredImage.astype(int), 'RGB')\n",
    "imgplot = plt.imshow(img)\n",
    "plt.show()\n"
   ]
  },
  {
   "cell_type": "markdown",
   "metadata": {},
   "source": [
    "### Evaluation of clustering - silhouette coefficient"
   ]
  },
  {
   "cell_type": "code",
   "execution_count": 11,
   "metadata": {},
   "outputs": [],
   "source": [
    "def calSilhouette(p,classData,imageInput,k):\n",
    "    \n",
    "    total = 0\n",
    "    distance = 0\n",
    "    \n",
    "    pixelValue = classData[p[0],p[1]]\n",
    "    \n",
    "    for i in range(512):\n",
    "        for j in range(512):\n",
    "            if classData[i][j] == pixelValue:\n",
    "                distance += euclidean_dist(imageInput[i,j,:],imageInput[p[0],p[1],:])\n",
    "                total+=1               \n",
    "    a = distance/total\n",
    "    \n",
    "    # distances of other cluster\n",
    "    \n",
    "    d = []\n",
    "    for x in range(k):\n",
    "        if x == pixelValue:\n",
    "            continue\n",
    "        else:\n",
    "            total = 0\n",
    "            distance = 0\n",
    "            for i in range(512):\n",
    "                for j in range(512):\n",
    "                    if classData[i][j] == x:\n",
    "                        distance += euclidean_dist(imageInput[i,j,:],imageInput[p[0],p[1],:])\n",
    "                        total+=1 \n",
    "            \n",
    "            if(total != 0):\n",
    "                d.append(distance/total) \n",
    "            else:\n",
    "                d.append(sys.maxsize)\n",
    "\n",
    "    b = min(d)\n",
    "    s = (b-a)/max(b,a)\n",
    "    return s"
   ]
  },
  {
   "cell_type": "code",
   "execution_count": 12,
   "metadata": {},
   "outputs": [],
   "source": [
    "# 1. Initialize silhouette array s (512,512)\n",
    "\n",
    "s = np.zeros((512,512))"
   ]
  },
  {
   "cell_type": "code",
   "execution_count": 14,
   "metadata": {},
   "outputs": [
    {
     "name": "stderr",
     "output_type": "stream",
     "text": [
      "<ipython-input-7-08d3e30e782d>:7: RuntimeWarning: overflow encountered in ubyte_scalars\n",
      "  dist = sum([(a - b) ** 2 for a, b in zip(x1, x2)])**0.5\n"
     ]
    }
   ],
   "source": [
    "# 2. For each pixel p in classData, sp = calSilhouette(p)\n",
    "\n",
    "# too heavy process, instead of 512 * 512, running it for 2 * 2\n",
    "for i in range(2):\n",
    "    for j in range(2):\n",
    "        s[i][j] = calSilhouette([i,j],classData,imageinput,k)"
   ]
  },
  {
   "cell_type": "code",
   "execution_count": 15,
   "metadata": {},
   "outputs": [
    {
     "name": "stdout",
     "output_type": "stream",
     "text": [
      "0.0\n"
     ]
    }
   ],
   "source": [
    "# 3. silhouette_coeff = max(s)\n",
    "\n",
    "silhouette_coeff_2 = np.amax(s) \n",
    "print(silhouette_coeff_2)"
   ]
  },
  {
   "cell_type": "code",
   "execution_count": 16,
   "metadata": {},
   "outputs": [],
   "source": [
    "# Repeating same process for k = 3,4,5\n",
    "\n",
    "def kmeans(k,imageinput,coord,threshold):\n",
    "\n",
    "    clusteredImage = np.zeros((512,512,3))\n",
    "    initCentroids = []\n",
    "\n",
    "    for i in range(k):\n",
    "        initCentroids.append(imageinput[coord[i][0],coord[i][1],:])\n",
    "\n",
    "    initCentroids = np.array(initCentroids)\n",
    "\n",
    "    # we will be updating centroids later\n",
    "    centroids = initCentroids\n",
    "\n",
    "    # loop until stopping criteria is met\n",
    "    count = 0\n",
    "    while(count < threshold):\n",
    "        classData = clustering(k,imageinput,centroids)\n",
    "        updatedCentroids = np.round(updateCentroids(imageinput,classData))\n",
    "        if (centroids==updatedCentroids).all():\n",
    "            print(\"same centroids\")\n",
    "            break\n",
    "        else:\n",
    "            centroids = updatedCentroids\n",
    "        count+=1\n",
    "\n",
    "    # form image\n",
    "    for i in range(512):\n",
    "        for j in range(512):\n",
    "            clusteredImage[i,j,:] = color[int(classData[i,j])]\n",
    "\n",
    "    img = Image.fromarray(clusteredImage.astype(int), 'RGB')\n",
    "    imgplot = plt.imshow(img)\n",
    "    plt.show()"
   ]
  },
  {
   "cell_type": "code",
   "execution_count": 17,
   "metadata": {},
   "outputs": [
    {
     "name": "stderr",
     "output_type": "stream",
     "text": [
      "<ipython-input-7-08d3e30e782d>:7: RuntimeWarning: overflow encountered in ubyte_scalars\n",
      "  dist = sum([(a - b) ** 2 for a, b in zip(x1, x2)])**0.5\n"
     ]
    },
    {
     "name": "stdout",
     "output_type": "stream",
     "text": [
      "same centroids\n"
     ]
    },
    {
     "data": {
      "image/png": "[encoded data removed]",
      "text/plain": [
       "<Figure size 432x288 with 1 Axes>"
      ]
     },
     "metadata": {
      "needs_background": "light"
     },
     "output_type": "display_data"
    }
   ],
   "source": [
    "k = 3\n",
    "kmeans(k,imageinput,coord,threshold)"
   ]
  },
  {
   "cell_type": "code",
   "execution_count": null,
   "metadata": {},
   "outputs": [
    {
     "name": "stderr",
     "output_type": "stream",
     "text": [
      "<ipython-input-7-08d3e30e782d>:7: RuntimeWarning: overflow encountered in ubyte_scalars\n",
      "  dist = sum([(a - b) ** 2 for a, b in zip(x1, x2)])**0.5\n"
     ]
    }
   ],
   "source": [
    "# silloutte\n",
    "s = np.zeros((512,512))\n",
    "for i in range(2):\n",
    "    for j in range(2):\n",
    "        s[i][j] = calSilhouette([i,j],classData,imageinput,k)\n",
    "silhouette_coeff_3 = np.amax(s)"
   ]
  },
  {
   "cell_type": "code",
   "execution_count": null,
   "metadata": {},
   "outputs": [],
   "source": [
    "k = 4\n",
    "kmeans(k,imageinput,coord,threshold)"
   ]
  },
  {
   "cell_type": "code",
   "execution_count": null,
   "metadata": {},
   "outputs": [],
   "source": [
    "# silloutte\n",
    "s = np.zeros((512,512))\n",
    "for i in range(2):\n",
    "    for j in range(2):\n",
    "        s[i][j] = calSilhouette([i,j],classData,imageinput,k)\n",
    "silhouette_coeff_4 = np.amax(s)"
   ]
  },
  {
   "cell_type": "code",
   "execution_count": null,
   "metadata": {},
   "outputs": [],
   "source": [
    "k = 5\n",
    "kmeans(k,imageInput,coord,threshold)"
   ]
  },
  {
   "cell_type": "code",
   "execution_count": null,
   "metadata": {},
   "outputs": [],
   "source": [
    "# silhouette\n",
    "s = np.zeros((512,512))\n",
    "for i in range(2):\n",
    "    for j in range(2):\n",
    "        s[i][j] = calSilhouette([i,j],classData,imageinput,k)\n",
    "silhouette_coeff_5 = np.amax(s)"
   ]
  },
  {
   "cell_type": "code",
   "execution_count": null,
   "metadata": {},
   "outputs": [],
   "source": [
    "### Silhouette coefficient comparison\n",
    "plt.plot([2,3,4,5], [silhouette_coeff_2,silhouette_coeff_3,silhouette_coeff_4, silhouette_coeff_5], color =\"red\")  \n",
    "plt.title(\"Silhouette coefficient comparison\")  \n",
    "plt.xlabel(\"k\")  \n",
    "plt.ylabel(\"Silhouette Coefficient\") \n",
    "plt.show()"
   ]
  },
  {
   "cell_type": "code",
   "execution_count": null,
   "metadata": {},
   "outputs": [],
   "source": []
  },
  {
   "cell_type": "code",
   "execution_count": null,
   "metadata": {},
   "outputs": [],
   "source": []
  },
  {
   "cell_type": "code",
   "execution_count": null,
   "metadata": {},
   "outputs": [],
   "source": []
  },
  {
   "cell_type": "code",
   "execution_count": null,
   "metadata": {},
   "outputs": [],
   "source": []
  },
  {
   "cell_type": "code",
   "execution_count": null,
   "metadata": {},
   "outputs": [],
   "source": []
  },
  {
   "cell_type": "code",
   "execution_count": null,
   "metadata": {},
   "outputs": [],
   "source": []
  },
  {
   "cell_type": "code",
   "execution_count": null,
   "metadata": {},
   "outputs": [],
   "source": [
    "imageinput[265,190,:].reshape(4,1)"
   ]
  },
  {
   "cell_type": "code",
   "execution_count": null,
   "metadata": {},
   "outputs": [],
   "source": [
    "initCentroids[1]"
   ]
  },
  {
   "cell_type": "code",
   "execution_count": null,
   "metadata": {},
   "outputs": [],
   "source": [
    "im1[265,190]"
   ]
  },
  {
   "cell_type": "code",
   "execution_count": null,
   "metadata": {},
   "outputs": [],
   "source": []
  }
 ],
 "metadata": {
  "kernelspec": {
   "display_name": "Python 3",
   "language": "python",
   "name": "python3"
  },
  "language_info": {
   "codemirror_mode": {
    "name": "ipython",
    "version": 3
   },
   "file_extension": ".py",
   "mimetype": "text/x-python",
   "name": "python",
   "nbconvert_exporter": "python",
   "pygments_lexer": "ipython3",
   "version": "3.8.5"
  }
 },
 "nbformat": 4,
 "nbformat_minor": 4
}
