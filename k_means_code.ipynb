{
 "cells": [
  {
   "cell_type": "code",
   "execution_count": 13,
   "metadata": {},
   "outputs": [],
   "source": [
    "from matplotlib import pyplot as plt\n",
    "import numpy as np\n",
    "from PIL import Image\n",
    "from skimage import exposure\n",
    "import random"
   ]
  },
  {
   "cell_type": "code",
   "execution_count": 2,
   "metadata": {},
   "outputs": [],
   "source": [
    "im1 = np.array(Image.open('band1.gif', 'r'))\n",
    "im2 = np.array(Image.open('band2.gif', 'r'))\n",
    "im3 = np.array(Image.open('band3.gif', 'r'))\n",
    "im4 = np.array(Image.open('band4.gif', 'r'))"
   ]
  },
  {
   "cell_type": "code",
   "execution_count": 4,
   "metadata": {},
   "outputs": [],
   "source": [
    "k=2"
   ]
  },
  {
   "cell_type": "code",
   "execution_count": 55,
   "metadata": {},
   "outputs": [
    {
     "name": "stdout",
     "output_type": "stream",
     "text": [
      "(512, 512, 4)\n",
      "(512,)\n"
     ]
    }
   ],
   "source": [
    "# 2. Input satellite images, imageInput (512, 512,4)\n",
    "\n",
    "imageinput=np.array([im1,im2,im3,im4])\n",
    "print(imageinput.reshape(512,512,4).shape)\n",
    "print(imageinput[0][0].shape)\n"
   ]
  },
  {
   "cell_type": "code",
   "execution_count": 27,
   "metadata": {},
   "outputs": [],
   "source": [
    "# 3. Initialize clusteredImage as the output image\n",
    "\n",
    "#clusteredImage "
   ]
  },
  {
   "cell_type": "code",
   "execution_count": 52,
   "metadata": {},
   "outputs": [
    {
     "name": "stdout",
     "output_type": "stream",
     "text": [
      "(3, 4)\n",
      "436\n"
     ]
    }
   ],
   "source": [
    "# 4. Select k random x,y co-ordinates and extract pixel values from imageInput \n",
    "\n",
    "coord = np.array(([265,190],[32,436],[52,252]))\n",
    "#print(coord[1][1])\n",
    "\n",
    "c1=[]\n",
    "c2=[]\n",
    "c3=[]\n",
    "c4=[]\n",
    "for i in range(3):\n",
    "    c1.append(im1[coord[i][1],coord[i][0]])\n",
    "    c2.append(im2[coord[i][1],coord[i][0]])\n",
    "    c3.append(im3[coord[i][1],coord[i][0]])\n",
    "    c4.append(im4[coord[i][1],coord[i][0]])\n",
    "\n",
    "    \n",
    "initCentroids=np.array([c1,c2,c3,c4]).T\n",
    "print(initCentroids.shape)\n",
    "print(coord[1][1])"
   ]
  },
  {
   "cell_type": "code",
   "execution_count": 57,
   "metadata": {},
   "outputs": [],
   "source": [
    "# 5.\n",
    "\n",
    "\n",
    "\n",
    "def euclidean_dist(x1,y1,x2,y2):\n",
    "\n",
    "    dist =  ( ((x1 - x2)**2) + ((y1 - y2)**2) )** 0.5 \n",
    "    return dist\n",
    "\n",
    "import sys\n",
    "min_dist = sys.maxsize\n",
    "predicted_dist=[0]*len(imageinput)\n",
    "\n",
    "\n",
    "for i in range (4):\n",
    "        for j in range(3):\n",
    "\n",
    "            distance = euclidean_dist(coord[j,0],coord[j,1],\n",
    "                                      imageinput[i,j,0],imageinput[i,j,0])    \n",
    "            if(min_dist > distance):\n",
    "                min_dist = distance\n",
    "                predicted_dist[i] = distance \n",
    "                tag = j;\n",
    "                \n",
    "    \n",
    "        min_dist = sys.maxsize    #reset min_dist\n",
    "        "
   ]
  },
  {
   "cell_type": "code",
   "execution_count": null,
   "metadata": {},
   "outputs": [],
   "source": []
  }
 ],
 "metadata": {
  "kernelspec": {
   "display_name": "Python 3",
   "language": "python",
   "name": "python3"
  },
  "language_info": {
   "codemirror_mode": {
    "name": "ipython",
    "version": 3
   },
   "file_extension": ".py",
   "mimetype": "text/x-python",
   "name": "python",
   "nbconvert_exporter": "python",
   "pygments_lexer": "ipython3",
   "version": "3.8.5"
  }
 },
 "nbformat": 4,
 "nbformat_minor": 4
}
