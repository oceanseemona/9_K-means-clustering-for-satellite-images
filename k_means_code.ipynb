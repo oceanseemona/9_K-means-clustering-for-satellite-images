{
 "cells": [
  {
   "cell_type": "code",
   "execution_count": 1,
   "metadata": {},
   "outputs": [],
   "source": [
    "from matplotlib import pyplot as plt\n",
    "import numpy as np\n",
    "from PIL import Image\n",
    "from skimage import exposure\n",
    "import random"
   ]
  },
  {
   "cell_type": "code",
   "execution_count": 2,
   "metadata": {},
   "outputs": [],
   "source": [
    "im1 = np.array(Image.open('band1.gif', 'r'))\n",
    "im2 = np.array(Image.open('band2.gif', 'r'))\n",
    "im3 = np.array(Image.open('band3.gif', 'r'))\n",
    "im4 = np.array(Image.open('band4.gif', 'r'))"
   ]
  },
  {
   "cell_type": "code",
   "execution_count": 3,
   "metadata": {},
   "outputs": [],
   "source": [
    "k=3"
   ]
  },
  {
   "cell_type": "code",
   "execution_count": 4,
   "metadata": {},
   "outputs": [
    {
     "name": "stdout",
     "output_type": "stream",
     "text": [
      "(512, 512, 4)\n",
      "(512,)\n"
     ]
    }
   ],
   "source": [
    "# 2. Input satellite images, imageInput (512, 512,4)\n",
    "\n",
    "imageinput=np.array([im1,im2,im3,im4])\n",
    "print(imageinput.reshape(512,512,4).shape)\n",
    "print(imageinput[0][0].shape)\n"
   ]
  },
  {
   "cell_type": "code",
   "execution_count": 5,
   "metadata": {},
   "outputs": [],
   "source": [
    "# 3. Initialize clusteredImage as the output image\n",
    "\n",
    "#clusteredImage "
   ]
  },
  {
   "cell_type": "code",
   "execution_count": 6,
   "metadata": {},
   "outputs": [
    {
     "name": "stdout",
     "output_type": "stream",
     "text": [
      "(3, 4)\n"
     ]
    }
   ],
   "source": [
    "# 4. Select k random x,y co-ordinates and extract pixel values from imageInput \n",
    "\n",
    "coord = np.array(([265,190],[32,436],[52,252]))\n",
    "\n",
    "c1=[]\n",
    "c2=[]\n",
    "c3=[]\n",
    "c4=[]\n",
    "for i in range(3):\n",
    "    c1.append(im1[coord[i][0],coord[i][1]])\n",
    "    c2.append(im2[coord[i][0],coord[i][1]])\n",
    "    c3.append(im3[coord[i][0],coord[i][1]])\n",
    "    c4.append(im4[coord[i][0],coord[i][1]])\n",
    "\n",
    "    \n",
    "initCentroids=np.array([c1,c2,c3,c4]).T\n",
    "print(initCentroids.shape)\n"
   ]
  },
  {
   "cell_type": "code",
   "execution_count": 7,
   "metadata": {},
   "outputs": [
    {
     "name": "stderr",
     "output_type": "stream",
     "text": [
      "<ipython-input-7-cfbb8f1453a7>:5: RuntimeWarning: overflow encountered in ubyte_scalars\n",
      "  dist = sum([(a - b) ** 2 for a, b in zip(x1, x2)])**0.5\n"
     ]
    }
   ],
   "source": [
    "#initCentroids (3, 4)\n",
    "#(512, 512, 4)\n",
    "\n",
    "def euclidean_dist(x1,x2):\n",
    "    dist = sum([(a - b) ** 2 for a, b in zip(x1, x2)])**0.5\n",
    "    return dist\n",
    "\n",
    "\n",
    "import sys\n",
    "min_dist = sys.maxsize\n",
    " \n",
    "cluster = np.zeros((512*512,1))\n",
    "\n",
    "for i in range(512):\n",
    "    for j in range(512):\n",
    "        for x in range(k):\n",
    "            distance = euclidean_dist(imageinput[:,i,j],initCentroids[x])\n",
    "\n",
    "            \n",
    "            if(min_dist > distance):\n",
    "                min_dist = distance\n",
    "                label = x\n",
    "                \n",
    "       \n",
    "        cluster[i] = label\n",
    "        min_dist = sys.maxsize \n",
    "        \n"
   ]
  },
  {
   "cell_type": "code",
   "execution_count": 17,
   "metadata": {},
   "outputs": [
    {
     "name": "stdout",
     "output_type": "stream",
     "text": [
      "(262144, 1)\n",
      "(512, 512)\n"
     ]
    },
    {
     "data": {
      "image/png": "[encoded data removed]",
      "text/plain": [
       "<Figure size 432x288 with 1 Axes>"
      ]
     },
     "metadata": {
      "needs_background": "light"
     },
     "output_type": "display_data"
    }
   ],
   "source": [
    "print(cluster.shape)\n",
    "cl=cluster.reshape(512,512)\n",
    "\n",
    "#cl = np.reshape(cl,(1, cl.size))\n",
    "print(cl.shape)\n",
    "plt.imshow(cl, cmap='hot')\n",
    "plt.show()"
   ]
  },
  {
   "cell_type": "code",
   "execution_count": null,
   "metadata": {},
   "outputs": [],
   "source": [
    "centroids_new = updateCentroids(classData)"
   ]
  },
  {
   "cell_type": "code",
   "execution_count": 25,
   "metadata": {},
   "outputs": [],
   "source": [
    "#classData=np.zeros((k,centroids))\n",
    "sum=np.zeros((4,1))\n",
    "\n",
    "for x in range (k):\n",
    "    for i in range(512):\n",
    "        for j in range(512):        \n",
    "             if cluster[i*j]==x:\n",
    "                    sum+=imageinput[:,i,j].reshape(4,1)\n",
    "                    "
   ]
  },
  {
   "cell_type": "code",
   "execution_count": null,
   "metadata": {},
   "outputs": [],
   "source": []
  },
  {
   "cell_type": "code",
   "execution_count": null,
   "metadata": {},
   "outputs": [],
   "source": []
  },
  {
   "cell_type": "code",
   "execution_count": null,
   "metadata": {},
   "outputs": [],
   "source": []
  },
  {
   "cell_type": "code",
   "execution_count": null,
   "metadata": {},
   "outputs": [],
   "source": []
  },
  {
   "cell_type": "code",
   "execution_count": null,
   "metadata": {},
   "outputs": [],
   "source": []
  },
  {
   "cell_type": "code",
   "execution_count": 24,
   "metadata": {},
   "outputs": [
    {
     "data": {
      "text/plain": [
       "(4, 1)"
      ]
     },
     "execution_count": 24,
     "metadata": {},
     "output_type": "execute_result"
    }
   ],
   "source": [
    "imageinput[:,265,190].reshape(4,1).shape"
   ]
  },
  {
   "cell_type": "code",
   "execution_count": null,
   "metadata": {},
   "outputs": [],
   "source": [
    "initCentroids[0]"
   ]
  },
  {
   "cell_type": "code",
   "execution_count": null,
   "metadata": {},
   "outputs": [],
   "source": [
    "im1[265,190]"
   ]
  },
  {
   "cell_type": "code",
   "execution_count": null,
   "metadata": {},
   "outputs": [],
   "source": []
  }
 ],
 "metadata": {
  "kernelspec": {
   "display_name": "Python 3",
   "language": "python",
   "name": "python3"
  },
  "language_info": {
   "codemirror_mode": {
    "name": "ipython",
    "version": 3
   },
   "file_extension": ".py",
   "mimetype": "text/x-python",
   "name": "python",
   "nbconvert_exporter": "python",
   "pygments_lexer": "ipython3",
   "version": "3.8.5"
  }
 },
 "nbformat": 4,
 "nbformat_minor": 4
}
