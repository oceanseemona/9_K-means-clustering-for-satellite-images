{
 "cells": [
  {
   "cell_type": "code",
   "execution_count": 1,
   "metadata": {},
   "outputs": [],
   "source": [
    "from matplotlib import pyplot as plt\n",
    "import numpy as np\n",
    "from PIL import Image\n",
    "from skimage import exposure\n",
    "import random\n",
    "import sys"
   ]
  },
  {
   "cell_type": "code",
   "execution_count": 2,
   "metadata": {},
   "outputs": [],
   "source": [
    "im1 = np.array(Image.open('band1.gif', 'r'))\n",
    "im2 = np.array(Image.open('band2.gif', 'r'))\n",
    "im3 = np.array(Image.open('band3.gif', 'r'))\n",
    "im4 = np.array(Image.open('band4.gif', 'r'))"
   ]
  },
  {
   "cell_type": "code",
   "execution_count": 3,
   "metadata": {},
   "outputs": [],
   "source": [
    "# 1. Initialize corresponding k color values for k=3 clusters\n",
    "k=3\n",
    "color = [[0,0,0],[255,255,255],[0,255,255]]"
   ]
  },
  {
   "cell_type": "code",
   "execution_count": 4,
   "metadata": {},
   "outputs": [
    {
     "name": "stdout",
     "output_type": "stream",
     "text": [
      "(512, 512, 4)\n"
     ]
    }
   ],
   "source": [
    "# 2. Input satellite images, imageInput (512, 512,4)\n",
    "\n",
    "imageinput=np.array([im1,im2,im3,im4])\n",
    "imageinput=imageinput.reshape(512,512,4)\n",
    "print(imageinput.shape)"
   ]
  },
  {
   "cell_type": "code",
   "execution_count": 5,
   "metadata": {},
   "outputs": [],
   "source": [
    "# 3. Initialize clusteredImage as the output image\n",
    "\n",
    "clusteredImage = np.zeros((512,512,3)) "
   ]
  },
  {
   "cell_type": "code",
   "execution_count": 15,
   "metadata": {},
   "outputs": [
    {
     "name": "stdout",
     "output_type": "stream",
     "text": [
      "(3, 4)\n",
      "\n",
      "[11 13 16 19]\n"
     ]
    }
   ],
   "source": [
    "# 4. Select k=3 random x,y co-ordinates and extract pixel values from imageInput \n",
    "\n",
    "coord = np.array(([300,100],[200,300],[200,400]))\n",
    "\n",
    "b1=[]\n",
    "b2=[]\n",
    "b3=[]\n",
    "b4=[]\n",
    "for i in range(k):\n",
    "    b1.append(im1[coord[i][0],coord[i][1]])\n",
    "    b2.append(im2[coord[i][0],coord[i][1]])\n",
    "    b3.append(im3[coord[i][0],coord[i][1]])\n",
    "    b4.append(im4[coord[i][0],coord[i][1]])\n",
    "\n",
    "    \n",
    "initCentroids=np.array([b1,b2,b3,b4]).T\n",
    "print(initCentroids.shape)\n",
    "print()\n",
    "print(initCentroids[1])"
   ]
  },
  {
   "cell_type": "code",
   "execution_count": 16,
   "metadata": {},
   "outputs": [
    {
     "name": "stderr",
     "output_type": "stream",
     "text": [
      "<ipython-input-16-08d3e30e782d>:7: RuntimeWarning: overflow encountered in ubyte_scalars\n",
      "  dist = sum([(a - b) ** 2 for a, b in zip(x1, x2)])**0.5\n"
     ]
    },
    {
     "name": "stdout",
     "output_type": "stream",
     "text": [
      "matched\n",
      "3\n"
     ]
    }
   ],
   "source": [
    "# 5. Clustering\n",
    "\n",
    "#initCentroids (3, 4)\n",
    "#(512, 512, 4)\n",
    "\n",
    "def euclidean_dist(x1,x2):\n",
    "    dist = sum([(a - b) ** 2 for a, b in zip(x1, x2)])**0.5\n",
    "    return dist\n",
    "\n",
    "\n",
    "def clustering(k,imageinput,initCentroids):\n",
    "    min_dist = sys.maxsize\n",
    "\n",
    "    classData = np.zeros((512,512))\n",
    "\n",
    "    for i in range(512):\n",
    "        for j in range(512):\n",
    "            for x in range(k):\n",
    "                distance = euclidean_dist(imageinput[i,j,:],initCentroids[x])\n",
    "\n",
    "                if(min_dist > distance):\n",
    "                    min_dist = distance\n",
    "                    label = x\n",
    "\n",
    "            classData[i][j] = label\n",
    "            min_dist = sys.maxsize\n",
    "            \n",
    "    return classData\n",
    "\n",
    "\n",
    "def updateCentroids(imageinput,classData):\n",
    "    s=np.zeros((1,4))\n",
    "    total = 0\n",
    "    updatedCentroids = np.zeros((k,4))\n",
    "\n",
    "    for x in range (k):\n",
    "        for i in range(512):\n",
    "            for j in range(512):\n",
    "                if classData[i][j]==x:\n",
    "                    s+= imageinput[i,j,:]\n",
    "                    total+=1\n",
    "        s = s/total\n",
    "        updatedCentroids[x] = s\n",
    "        s=np.zeros((1,4))\n",
    "        total = 0\n",
    "    return updatedCentroids\n",
    "\n",
    "# loop until stopping criteria \n",
    "\n",
    "# setting threshold\n",
    "threshold = 15\n",
    "\n",
    "for i in range(threshold):\n",
    "    classData = clustering(k,imageinput,initCentroids)\n",
    "    updatedCentroids = np.round(updateCentroids(imageinput,classData))\n",
    "    if (initCentroids==updatedCentroids).all():\n",
    "        print(\"matched\")\n",
    "        print(i)\n",
    "        break\n",
    "    else:\n",
    "        initCentroids = updatedCentroids"
   ]
  },
  {
   "cell_type": "code",
   "execution_count": 17,
   "metadata": {},
   "outputs": [
    {
     "name": "stdout",
     "output_type": "stream",
     "text": [
      "[[ 9.  8.  8.  9.]\n",
      " [23. 23. 23. 23.]\n",
      " [14. 14. 14. 14.]]\n"
     ]
    }
   ],
   "source": [
    "print(updatedCentroids)"
   ]
  },
  {
   "cell_type": "code",
   "execution_count": 18,
   "metadata": {},
   "outputs": [],
   "source": [
    "# 6. assign color\n",
    "\n",
    "for i in range(512):\n",
    "    for j in range(512):\n",
    "        clusteredImage[i,j,:] = color[int(classData[i,j])]\n",
    "        \n",
    "clusteredImage.shape"
   ]
  },
  {
   "cell_type": "code",
   "execution_count": 19,
   "metadata": {},
   "outputs": [
    {
     "data": {
      "text/plain": [
       "(512, 512, 3)"
      ]
     },
     "execution_count": 19,
     "metadata": {},
     "output_type": "execute_result"
    }
   ],
   "source": []
  },
  {
   "cell_type": "code",
   "execution_count": 20,
   "metadata": {},
   "outputs": [
    {
     "data": {
      "image/png": "[encoded data removed]",
      "text/plain": [
       "<Figure size 432x288 with 1 Axes>"
      ]
     },
     "metadata": {
      "needs_background": "light"
     },
     "output_type": "display_data"
    }
   ],
   "source": [
    "# 7. Display clusteredImage\n",
    "\n",
    "img = Image.fromarray(clusteredImage.astype(int), 'RGB')\n",
    "imgplot = plt.imshow(img)\n",
    "plt.show()\n"
   ]
  },
  {
   "cell_type": "code",
   "execution_count": null,
   "metadata": {},
   "outputs": [],
   "source": []
  },
  {
   "cell_type": "code",
   "execution_count": null,
   "metadata": {},
   "outputs": [],
   "source": []
  },
  {
   "cell_type": "code",
   "execution_count": null,
   "metadata": {},
   "outputs": [],
   "source": []
  },
  {
   "cell_type": "code",
   "execution_count": null,
   "metadata": {},
   "outputs": [],
   "source": []
  },
  {
   "cell_type": "code",
   "execution_count": null,
   "metadata": {},
   "outputs": [],
   "source": []
  },
  {
   "cell_type": "code",
   "execution_count": 21,
   "metadata": {},
   "outputs": [
    {
     "data": {
      "text/plain": [
       "array([[11],\n",
       "       [12],\n",
       "       [11],\n",
       "       [11]], dtype=uint8)"
      ]
     },
     "execution_count": 21,
     "metadata": {},
     "output_type": "execute_result"
    }
   ],
   "source": [
    "imageinput[265,190,:].reshape(4,1)"
   ]
  },
  {
   "cell_type": "code",
   "execution_count": 22,
   "metadata": {},
   "outputs": [
    {
     "data": {
      "text/plain": [
       "array([14., 14., 14., 14.])"
      ]
     },
     "execution_count": 22,
     "metadata": {},
     "output_type": "execute_result"
    }
   ],
   "source": [
    "initCentroids[2]"
   ]
  },
  {
   "cell_type": "code",
   "execution_count": 23,
   "metadata": {},
   "outputs": [
    {
     "data": {
      "text/plain": [
       "13"
      ]
     },
     "execution_count": 23,
     "metadata": {},
     "output_type": "execute_result"
    }
   ],
   "source": [
    "im1[265,190]"
   ]
  },
  {
   "cell_type": "code",
   "execution_count": null,
   "metadata": {},
   "outputs": [],
   "source": []
  }
 ],
 "metadata": {
  "kernelspec": {
   "display_name": "Python 3",
   "language": "python",
   "name": "python3"
  },
  "language_info": {
   "codemirror_mode": {
    "name": "ipython",
    "version": 3
   },
   "file_extension": ".py",
   "mimetype": "text/x-python",
   "name": "python",
   "nbconvert_exporter": "python",
   "pygments_lexer": "ipython3",
   "version": "3.8.5"
  }
 },
 "nbformat": 4,
 "nbformat_minor": 4
}
